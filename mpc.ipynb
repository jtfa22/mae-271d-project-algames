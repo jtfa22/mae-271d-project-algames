{
 "cells": [
  {
   "cell_type": "code",
   "execution_count": 1,
   "id": "9eadd3e3",
   "metadata": {},
   "outputs": [],
   "source": [
    "import numpy as np\n",
    "import casadi as ca\n",
    "import scipy.io\n",
    "import matplotlib.pyplot as plt\n",
    "from dynamics import get_linear_dynamics"
   ]
  },
  {
   "cell_type": "code",
   "execution_count": 2,
   "id": "5e482a80",
   "metadata": {},
   "outputs": [],
   "source": [
    "# M players\n",
    "M = 1\n",
    "\n",
    "# N horizon length\n",
    "N = 10\n",
    "\n",
    "# n state size\n",
    "n = 4  # (x, y, v_x, v_y)\n",
    "\n",
    "# m control input size\n",
    "m = 2  # (a_x, a_y)\n",
    "\n",
    "# simulation length\n",
    "sim_length = 10\n",
    "\n",
    "# timestep\n",
    "dt = 0.1 \n",
    "\n",
    "# simulation steps\n",
    "L = int(sim_length/dt)\n",
    "\n",
    "# collision avoidance radius\n",
    "r = 0.5\n",
    "\n",
    "# running cost matrix\n",
    "Q = np.eye(n)\n",
    "\n",
    "# terminal cost matrix\n",
    "Qf = np.eye(n)\n",
    "\n",
    "# control cost matrix\n",
    "R = np.eye(m)"
   ]
  },
  {
   "cell_type": "code",
   "execution_count": 30,
   "id": "fdf5aba1",
   "metadata": {},
   "outputs": [],
   "source": [
    "def generate(x0, M, N, n, m, dt):\n",
    "    # x0: list of (n,) numpy arrays\n",
    "    # M: num players\n",
    "    # N: horizon\n",
    "    # n: state size\n",
    "    # m: control input size\n",
    "\n",
    "    # integrate separately for each player, assuming\n",
    "    # zero input as initial guess and all players have\n",
    "    # identical dynamics\n",
    "    X = np.empty([])\n",
    "    A = get_linear_dynamics( n, m, dt)[0]\n",
    "    for i in range(M):\n",
    "        x = x0[i]\n",
    "        for j in range(N):\n",
    "            x = A@x\n",
    "            X = np.hstack((X, x))\n",
    "            \n",
    "    U = np.zeros((M*N*m,)) # guess zero input\n",
    "    mu = np.ones((M*N*n,)) # guess multipliers of 1\n",
    "\n",
    "    y0 = np.hstack((X,U,mu))\n",
    "    return y0, X, U, mu"
   ]
  },
  {
   "cell_type": "code",
   "execution_count": 31,
   "id": "7f9adbe0",
   "metadata": {},
   "outputs": [
    {
     "data": {
      "text/plain": [
       "[array([0., 0., 0., 0.]),\n",
       " array([0., 0., 0., 0.]),\n",
       " array([0., 0., 0., 0.]),\n",
       " array([0., 0., 0., 0.])]"
      ]
     },
     "execution_count": 31,
     "metadata": {},
     "output_type": "execute_result"
    }
   ],
   "source": [
    "[np.zeros((4,))]*4"
   ]
  },
  {
   "cell_type": "code",
   "execution_count": 32,
   "id": "295ddb21",
   "metadata": {},
   "outputs": [
    {
     "name": "stdout",
     "output_type": "stream",
     "text": [
      "[0. 0. 0. 0.]\n"
     ]
    }
   ],
   "source": [
    "list_x0 = [np.zeros((4,))]*4\n",
    "print(list_x0[0])"
   ]
  },
  {
   "cell_type": "code",
   "execution_count": 33,
   "id": "4a1fc6cb",
   "metadata": {},
   "outputs": [],
   "source": [
    "y0, X_guess, U_guess, mu_guess = generate(list_x0, M, N, n, m, dt)  # [X, U, mu]"
   ]
  },
  {
   "cell_type": "code",
   "execution_count": null,
   "id": "6fa61b9e",
   "metadata": {},
   "outputs": [],
   "source": [
    "# System setup\n",
    "A = np.array([[1, 0],\n",
    "              [0, 1.1]])\n",
    "B = np.array([[1],\n",
    "              [1]])\n",
    "\n",
    "nx = A.shape[0]\n",
    "nu = B.shape[1]\n",
    "\n",
    "# Cost matrices\n",
    "Q1 = np.eye(nx)\n",
    "Q2 = 100 * np.array([[3, -2], [-2, 4]])\n",
    "R = np.eye(nu)\n",
    "Q = Q1\n",
    "P = Q\n",
    "\n",
    "# Horizon\n",
    "N = 12"
   ]
  },
  {
   "cell_type": "code",
   "execution_count": null,
   "id": "7bd75841",
   "metadata": {},
   "outputs": [],
   "source": [
    "# Define CasADi variables\n",
    "x0 = ca.MX.sym('x0', nx)\n",
    "U = ca.MX.sym('U', nu, N)\n",
    "\n",
    "# Build optimization\n",
    "x = x0\n",
    "cost = 0\n",
    "g = []  # constraints\n",
    "\n",
    "for k in range(N):\n",
    "    u_k = U[:, k]\n",
    "    cost += ca.mtimes([x.T, Q, x]) + ca.mtimes([u_k.T, R, u_k])\n",
    "    x = ca.mtimes(A, x) + ca.mtimes(B, u_k)\n",
    "    g.append(u_k - 1)   # u_k <= 1\n",
    "    g.append(-u_k - 1)  # u_k >= -1\n",
    "    g.append(x - np.array([[5], [5]]))  # x <= 5\n",
    "    g.append(-x - np.array([[5], [5]])) # x >= -5\n",
    "\n",
    "# Terminal cost\n",
    "cost += ca.mtimes([x.T, P, x])\n",
    "\n",
    "# Flatten constraints\n",
    "g_flat = ca.vertcat(*g)\n",
    "\n",
    "# Define optimization problem\n",
    "opt_vars = ca.vec(U)\n",
    "qpsol = {'x': opt_vars, 'f': cost, 'g': g_flat, 'p': x0}\n",
    "# opts = {'qpoases.print_level':0, 'print_time':0}\n",
    "solver = ca.qpsol('S', 'qpoases', qpsol)\n",
    "\n",
    "# Bounds\n",
    "nlb = []\n",
    "nub = []\n",
    "\n",
    "for k in range(N):\n",
    "    # u constraints\n",
    "    nlb += [-np.inf]*nu + [-np.inf]*nu\n",
    "    nub += [0]*nu + [0]*nu\n",
    "\n",
    "    # x constraints\n",
    "    nlb += [-np.inf]*nx + [-np.inf]*nx\n",
    "    nub += [0]*nx + [0]*nx\n"
   ]
  },
  {
   "cell_type": "code",
   "execution_count": null,
   "id": "059d3077",
   "metadata": {},
   "outputs": [],
   "source": [
    "\n",
    "# Simulation\n",
    "x_ic = np.array([[1.0], [1.0]])\n",
    "X = [x_ic.copy()]\n",
    "U_applied = []\n",
    "\n",
    "for i in range(200):\n",
    "    # print(f\"Iteration {i+1}\")\n",
    "    sol = solver(x0=ca.DM.zeros(nu*N, 1),\n",
    "                 p=x_ic,\n",
    "                 lbg=nlb,\n",
    "                 ubg=nub)\n",
    "\n",
    "    u_star = sol['x'].full().reshape(nu, N)\n",
    "    u_apply = u_star[:, 0:1]\n",
    "    x_ic = A @ x_ic + B @ u_apply\n",
    "    X.append(x_ic.copy())\n",
    "    U_applied.append(u_apply.item())\n",
    "\n",
    "# Plot trajectory\n",
    "X = np.hstack(X)\n",
    "plt.plot(X[0, :], X[1, :], '*-b')\n",
    "plt.xlabel('x1')\n",
    "plt.ylabel('x2')\n",
    "plt.title('MPC trajectory using CasADi')\n",
    "plt.grid()\n",
    "plt.show()"
   ]
  }
 ],
 "metadata": {
  "kernelspec": {
   "display_name": "Python 3",
   "language": "python",
   "name": "python3"
  },
  "language_info": {
   "codemirror_mode": {
    "name": "ipython",
    "version": 3
   },
   "file_extension": ".py",
   "mimetype": "text/x-python",
   "name": "python",
   "nbconvert_exporter": "python",
   "pygments_lexer": "ipython3",
   "version": "3.13.1"
  }
 },
 "nbformat": 4,
 "nbformat_minor": 5
}
