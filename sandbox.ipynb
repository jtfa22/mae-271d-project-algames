{
 "cells": [
  {
   "cell_type": "code",
   "execution_count": 34,
   "id": "1eae5558",
   "metadata": {},
   "outputs": [],
   "source": [
    "import numpy as np\n",
    "import scipy as sp\n",
    "from scipy import linalg"
   ]
  },
  {
   "cell_type": "markdown",
   "id": "6396aa25",
   "metadata": {},
   "source": [
    "- assume double integrator model"
   ]
  },
  {
   "cell_type": "code",
   "execution_count": 35,
   "id": "1dc70e69",
   "metadata": {},
   "outputs": [],
   "source": [
    "# M players\n",
    "M = 3\n",
    "\n",
    "# N time steps\n",
    "N = 5\n",
    "\n",
    "# n state size\n",
    "n = 4  # (x, y, v_x, v_y)\n",
    "\n",
    "# m control input size\n",
    "m = 2  # (a_x, a_y)\n",
    "\n",
    "# timestep\n",
    "dt = 0.01\n",
    "\n",
    "# collision avoidance radius\n",
    "r = 0.5"
   ]
  },
  {
   "cell_type": "markdown",
   "id": "8b0066f8",
   "metadata": {},
   "source": [
    "### States\n",
    "\n",
    "$X^v$ and $U^v$ trajectory for each player $v$ basically like the CFTOCP batch approach without substitution from HW1\n",
    "\n",
    "$X^v = [x_1, ... x_N]$ and $U^v = [u_0, ... u_{N-1}]$\n",
    "\n",
    "For the full Nash equilibium problem, just concatenate all the players trajectories together \n",
    "\n",
    "$X = [X^1, X^2, ..., X^m]$ and $U = [U^1, U^2, ..., U^m]$\n",
    "\n"
   ]
  },
  {
   "cell_type": "markdown",
   "id": "cfaaea95",
   "metadata": {},
   "source": [
    "### Dynamics\n",
    "\n",
    "$D(X,U)$ contains all trajectories and control inputs stacked"
   ]
  },
  {
   "cell_type": "code",
   "execution_count": 36,
   "id": "f0d6cfd5",
   "metadata": {},
   "outputs": [],
   "source": [
    "# double integrator\n",
    "A = np.eye(n) + np.diag([dt, dt], k=int(n / 2))\n",
    "B = np.vstack((np.eye(m) * dt**2 / 2, (np.eye(m) * dt)))\n",
    "\n",
    "# player dynamics\n",
    "# A_eq * X_v + B_eq * U_v = E_eq\n",
    "a_block = linalg.block_diag(*([-A] * (N - 1)))\n",
    "A_eq = np.eye(N * n) + np.pad(a_block, [(n, 0), (0, n)])\n",
    "B_eq = linalg.block_diag(*([-B] * N))\n",
    "E_eq = np.vstack((A, np.zeros(((N - 1) * n, n))))\n",
    "\n",
    "# system dynamics for all players\n",
    "# A_sys * X + B_sys * U = E_sys\n",
    "A_sys = linalg.block_diag(*([A_eq] * M))\n",
    "B_sys = linalg.block_diag(*([B_eq] * M))\n",
    "E_sys = np.vstack(([E_eq] * M))"
   ]
  },
  {
   "cell_type": "code",
   "execution_count": 37,
   "id": "31d9e9a4",
   "metadata": {},
   "outputs": [
    {
     "name": "stdout",
     "output_type": "stream",
     "text": [
      "(60, 60) (60, 30) (60, 4)\n",
      "(20, 20) (20, 10) (20, 4)\n",
      "(4, 4) (4, 2)\n"
     ]
    }
   ],
   "source": [
    "print(np.shape(A_sys), np.shape(B_sys), np.shape(E_sys))\n",
    "print(np.shape(A_eq), np.shape(B_eq), np.shape(E_eq))\n",
    "print(np.shape(A), np.shape(B))"
   ]
  },
  {
   "cell_type": "markdown",
   "id": "0fbf3d4b",
   "metadata": {},
   "source": [
    "### Inequality Constraints\n",
    "\n",
    "1) walls: all position + radius should not exceed value (assume only horizontal/vertical walls)\n",
    "\n",
    "$C_{wall}X - (D_{wall} - R) \\leq 0$\n",
    "\n",
    "2) collision avoidance: player position + radius not exceed another player position\n",
    "\n",
    "$R^2 - ||x_k^v - x_k^{v'} ||_2^2 \\leq 0$\n",
    "\n",
    "3) control input bounds: bounds on control input centered at zero\n",
    "\n",
    "$-B \\leq U \\leq B$"
   ]
  },
  {
   "cell_type": "code",
   "execution_count": 38,
   "id": "40404ccd",
   "metadata": {},
   "outputs": [
    {
     "name": "stdout",
     "output_type": "stream",
     "text": [
      "(5,)\n",
      "(15, 60) (15,)\n"
     ]
    }
   ],
   "source": [
    "# position wall bounds\n",
    "# example wall at y = 2 (extends forever)\n",
    "wall_y = 2.0\n",
    "ind_y = 1  # index corresponding to y position in state\n",
    "\n",
    "# for single state k\n",
    "# c_wall_ineq * x_k - d_wall_ineq <= 0\n",
    "c_wall_ineq = np.zeros(n)\n",
    "c_wall_ineq[ind_y] = 1\n",
    "d_wall_ineq = wall_y - r\n",
    "\n",
    "# for single player\n",
    "# C_wall_ineq * X_v - D_wall_ineq <= 0\n",
    "C_wall_ineq = linalg.block_diag(*([c_wall_ineq] * N))\n",
    "D_wall_ineq = np.array(([d_wall_ineq] * N))\n",
    "\n",
    "# for all players\n",
    "# C_wall_sys * X - D_wall_sys <= 0\n",
    "C_wall_sys = linalg.block_diag(*([C_wall_ineq] * M))\n",
    "D_wall_sys = np.tile(D_wall_ineq, M)\n",
    "\n",
    "\n",
    "print(np.shape(D_wall_ineq))\n",
    "print(np.shape(C_wall_sys), np.shape(D_wall_sys))"
   ]
  },
  {
   "cell_type": "code",
   "execution_count": 39,
   "id": "68dfab2f",
   "metadata": {},
   "outputs": [
    {
     "data": {
      "text/plain": [
       "(15, 2, 60)"
      ]
     },
     "execution_count": 39,
     "metadata": {},
     "output_type": "execute_result"
    }
   ],
   "source": [
    "# collision avoidance with other players\n",
    "# will need to be formulated per timestep k, per players v1, v2\n",
    "# r - (C_cola_k_v1_v2 * X).T @ (C_cola_k_v1_v2 * X) <= 0\n",
    "\n",
    "# select position from the states\n",
    "pos = np.hstack((np.eye(2), np.zeros((2, 2))))\n",
    "\n",
    "list_cola = []\n",
    "for k in range(N):  # timestep\n",
    "    for v1 in range(M):  # player 1\n",
    "        for v2 in range(v1 + 1, M):  # player 2\n",
    "            c_block = [np.zeros((2, n))] * N * M\n",
    "            ind1 = v1 * N + k\n",
    "            ind2 = v2 * N + k\n",
    "            c_block[ind1] = pos\n",
    "            c_block[ind2] = -1 * pos\n",
    "            C_cola = np.hstack(c_block)\n",
    "            list_cola.append(C_cola)\n",
    "\n",
    "# will need to stack up all of these individually after evaluating the quadratic\n",
    "\n",
    "# there might be better way linear algebra wise to stack them together but prob\n",
    "# is gonna make the derivative worse to find\n",
    "np.shape(list_cola)"
   ]
  },
  {
   "cell_type": "code",
   "execution_count": 40,
   "id": "bf6b8353",
   "metadata": {},
   "outputs": [
    {
     "name": "stdout",
     "output_type": "stream",
     "text": [
      "(4,)\n",
      "(20,)\n",
      "(60, 30) (60,)\n"
     ]
    }
   ],
   "source": [
    "# control input bounds\n",
    "max_x = 20\n",
    "max_y = 20\n",
    "\n",
    "ind_x = 0  # index corresponding to x position in control\n",
    "ind_y = 1\n",
    "f_ineq = np.zeros((4, m))\n",
    "f_ineq[0, ind_x] = 1\n",
    "f_ineq[1, ind_x] = -1\n",
    "f_ineq[2, ind_y] = 1\n",
    "f_ineq[3, ind_y] = -1\n",
    "g_ineq = np.array(([max_x] * 2 + [max_y] * 2))\n",
    "\n",
    "F_ineq = linalg.block_diag(*([f_ineq] * N))\n",
    "G_ineq = np.tile(g_ineq, N)\n",
    "\n",
    "F_sys = linalg.block_diag(*([F_ineq] * M))\n",
    "G_sys = np.tile(G_ineq, M)\n",
    "\n",
    "print(np.shape(g_ineq))\n",
    "print(np.shape(G_ineq))\n",
    "print(np.shape(F_sys), np.shape(G_sys))"
   ]
  },
  {
   "cell_type": "markdown",
   "id": "640eb6d6",
   "metadata": {},
   "source": [
    "### Objective"
   ]
  },
  {
   "cell_type": "code",
   "execution_count": 41,
   "id": "28ab7709",
   "metadata": {},
   "outputs": [
    {
     "data": {
      "text/plain": [
       "62326.00000000001"
      ]
     },
     "execution_count": 41,
     "metadata": {},
     "output_type": "execute_result"
    }
   ],
   "source": [
    "# X = np.random.rand(N*M*n)\n",
    "X = np.array(range(M * N * n))\n",
    "U = np.array(range(M * N * m)) * 0.1\n",
    "\n",
    "xf = np.array([1, 1, 2, 2])\n",
    "Q = np.eye(n) * 2\n",
    "Qf = np.eye(n) * 5\n",
    "R = np.eye(m) * 10\n",
    "\n",
    "u_v = 2\n",
    "\n",
    "cost = 0\n",
    "# trajectory states\n",
    "for k in range(0, N - 2):\n",
    "    for v in range(M):\n",
    "        ind = (v * N + k) * n\n",
    "        xk = X[ind : ind + n]\n",
    "        cost += 0.5 * (xk - xf).T @ Q @ (xk - xf)\n",
    "\n",
    "# final state\n",
    "k = N - 1\n",
    "ind = (v * N + k) * n\n",
    "xk = X[ind : ind + n]\n",
    "cost += 0.5 * (xk - xf).T @ Qf @ (xk - xf)\n",
    "\n",
    "# player control input\n",
    "for k in range(0, N - 1):\n",
    "    ind = (u_v * N + k) * m\n",
    "    uk = U[ind : ind + m]\n",
    "    cost += 0.5 * uk.T @ R @ uk\n",
    "cost"
   ]
  },
  {
   "cell_type": "code",
   "execution_count": 42,
   "id": "c297306b",
   "metadata": {},
   "outputs": [
    {
     "name": "stdout",
     "output_type": "stream",
     "text": [
      "(10,) (10, 10)\n",
      "(60,) (10,)\n",
      "(60,) (30,)\n"
     ]
    }
   ],
   "source": [
    "# wrt x\n",
    "xf_sys = np.tile(np.reshape(xf, (n,)), N * M)\n",
    "Q_sys = linalg.block_diag(*(([Q] * (N - 1) + [Qf]) * M))\n",
    "J_x = (X - xf_sys).T @ Q_sys\n",
    "\n",
    "# wrt u\n",
    "ind = (u_v * N) * m\n",
    "Uv = U[ind : ind + N * m]\n",
    "R_sys = linalg.block_diag(*([R] * N))\n",
    "J_u = Uv.T @ R_sys\n",
    "\n",
    "np.hstack((J_x, J_u))\n",
    "print(np.shape(Uv), np.shape(R_sys))\n",
    "print(np.shape(J_x), np.shape(J_u))\n",
    "print(np.shape(X), np.shape(U))"
   ]
  },
  {
   "cell_type": "markdown",
   "id": "939c4856",
   "metadata": {},
   "source": [
    "### Augmented Lagrangian\n",
    "\n",
    "$ L^v(X,U) = J^v + \\mu^{v\\top} D + \\lambda^\\top C + \\frac{1}{2}C^\\top I_\\rho C\n",
    "$"
   ]
  },
  {
   "cell_type": "code",
   "execution_count": null,
   "id": "d53a331f",
   "metadata": {},
   "outputs": [],
   "source": []
  },
  {
   "cell_type": "markdown",
   "id": "4ad9c43e",
   "metadata": {},
   "source": [
    "### Check dimensions"
   ]
  },
  {
   "cell_type": "code",
   "execution_count": 43,
   "id": "c9af8443",
   "metadata": {},
   "outputs": [
    {
     "data": {
      "text/plain": [
       "[array([ 0.,  1.,  2.,  3.,  4.,  5.,  6.,  7.,  8.,  9., 10., 11., 12.,\n",
       "        13., 14., 15., 16., 17., 18., 19., 20., 21., 22., 23., 24., 25.,\n",
       "        26., 27., 28., 29., 30., 31., 32., 33., 34., 35., 36., 37., 38.,\n",
       "        39., 40., 41., 42., 43., 44., 45., 46., 47., 48., 49., 50., 51.,\n",
       "        52., 53., 54., 55., 56., 57., 58., 59.]),\n",
       " array([0. , 0.1, 0.2, 0.3, 0.4, 0.5, 0.6, 0.7, 0.8, 0.9, 1. , 1.1, 1.2,\n",
       "        1.3, 1.4, 1.5, 1.6, 1.7, 1.8, 1.9, 2. , 2.1, 2.2, 2.3, 2.4, 2.5,\n",
       "        2.6, 2.7, 2.8, 2.9]),\n",
       " array([0.09323888, 0.59555434, 0.5034313 , 0.0464137 , 0.53015161,\n",
       "        0.85451948, 0.25057746, 0.13725121, 0.29392233, 0.96941952,\n",
       "        0.10702839, 0.36732793, 0.20543239, 0.90816421, 0.21361613,\n",
       "        0.10388113, 0.32024817, 0.68818133, 0.72224333, 0.51677236,\n",
       "        0.47924929, 0.05621939, 0.5942264 , 0.70349206, 0.94524969,\n",
       "        0.40152215, 0.68135804, 0.89839372, 0.32446545, 0.08907054,\n",
       "        0.29863144, 0.29109403, 0.10825656, 0.56189928, 0.80431019,\n",
       "        0.31074266, 0.69806001, 0.6904308 , 0.85938126, 0.86230263,\n",
       "        0.31669592, 0.79454203, 0.09653924, 0.65200771, 0.65904281,\n",
       "        0.66888525, 0.30450787, 0.04766918, 0.90221222, 0.93365002,\n",
       "        0.3121479 , 0.1543915 , 0.42531698, 0.50232321, 0.30246154,\n",
       "        0.19805815, 0.24454798, 0.3597087 , 0.59199762, 0.18116375])]"
      ]
     },
     "execution_count": 43,
     "metadata": {},
     "output_type": "execute_result"
    }
   ],
   "source": [
    "X = np.array(range(M * N * n))\n",
    "U = np.array(range(M * N * m)) * 0.1\n",
    "mu = np.random.rand(N * M * n)\n",
    "y = np.hstack((X, U, mu))\n",
    "\n",
    "np.split(y, [M * N * n, M * N * (n + m)])"
   ]
  },
  {
   "cell_type": "code",
   "execution_count": 44,
   "id": "83802ade",
   "metadata": {},
   "outputs": [
    {
     "name": "stdout",
     "output_type": "stream",
     "text": [
      "(60,) (30,)\n"
     ]
    }
   ],
   "source": [
    "print(np.shape(X), np.shape(U))"
   ]
  },
  {
   "cell_type": "code",
   "execution_count": 45,
   "id": "e08b83a9",
   "metadata": {},
   "outputs": [
    {
     "name": "stdout",
     "output_type": "stream",
     "text": [
      "(60, 60) (60, 30) (60, 12)\n",
      "(12,)\n",
      "(60,)\n",
      "(60, 90)\n"
     ]
    }
   ],
   "source": [
    "import dynamics\n",
    "\n",
    "A_sys, B_sys, E_sys = dynamics.get_system_dynamics(M, N, n, m, dt)\n",
    "print(np.shape(A_sys), np.shape(B_sys), np.shape(E_sys))\n",
    "\n",
    "list_x0 = [np.array([0, 0, 1, 1]), np.array([1, 1, 2, 2]), np.array([2, 2, 3, 3])]\n",
    "x0 = np.hstack(list_x0)\n",
    "print(np.shape(x0))\n",
    "\n",
    "D = dynamics.D(X, U, A_sys, B_sys, E_sys, x0)\n",
    "print(np.shape(D))\n",
    "gD = dynamics.grad_D(X, U, A_sys, B_sys, E_sys)\n",
    "print(np.shape(gD))"
   ]
  },
  {
   "cell_type": "code",
   "execution_count": 46,
   "id": "e0919ae8",
   "metadata": {},
   "outputs": [
    {
     "name": "stdout",
     "output_type": "stream",
     "text": [
      "(15, 60) (15,)\n",
      "(60, 30) (60,)\n",
      "(15, 2, 60)\n",
      "(90,)\n",
      "(90, 90)\n"
     ]
    }
   ],
   "source": [
    "import constraints\n",
    "\n",
    "C_wall_sys, D_wall_sys = constraints.get_system_wall_y(wall_y, r, M, N, n)\n",
    "print(np.shape(C_wall_sys), np.shape(D_wall_sys))\n",
    "F_sys, G_sys = constraints.get_system_input_bound(M, N, m, max_x, max_y)\n",
    "print(np.shape(F_sys), np.shape(G_sys))\n",
    "list_cola = constraints.get_system_cola(M, N, n)\n",
    "print(np.shape(list_cola))\n",
    "\n",
    "c_wall = constraints.C_wall(X, U, C_wall_sys, D_wall_sys)\n",
    "c_input = constraints.C_input(X, U, F_sys, G_sys)\n",
    "c_cola = constraints.C_cola(X, U, r, list_cola)\n",
    "\n",
    "# np.shape(np.concatenate((c_wall,c_input,c_cola)))\n",
    "C = constraints.C(X, U, C_wall_sys, D_wall_sys, F_sys, G_sys, r, list_cola)\n",
    "print(np.shape(C))\n",
    "gC = constraints.grad_C(X, U, C_wall_sys, D_wall_sys, F_sys, G_sys, r, list_cola)\n",
    "print(np.shape(gC))"
   ]
  },
  {
   "cell_type": "code",
   "execution_count": 47,
   "id": "95469525",
   "metadata": {},
   "outputs": [
    {
     "name": "stdout",
     "output_type": "stream",
     "text": [
      "59102.00000000001\n",
      "(90,)\n"
     ]
    }
   ],
   "source": [
    "import objective\n",
    "\n",
    "list_xf = [np.array([10, 0, 1, 1]), np.array([11, 1, 2, 2]), np.array([12, 2, 3, 3])]\n",
    "u_v = 1\n",
    "J_v = objective.J_v(X, U, u_v, Q, Qf, R, M, N, n, m, list_xf[0])\n",
    "print(J_v)\n",
    "gJ_v = objective.grad_J_v(X, U, u_v, Q, Qf, R, M, N, n, m, list_xf)\n",
    "print(np.shape(gJ_v))"
   ]
  },
  {
   "cell_type": "code",
   "execution_count": 48,
   "id": "55c96207",
   "metadata": {},
   "outputs": [
    {
     "name": "stdout",
     "output_type": "stream",
     "text": [
      "(90, 90)\n",
      "(90,)\n"
     ]
    }
   ],
   "source": [
    "import penalty\n",
    "\n",
    "lam = np.ones(len(C))\n",
    "rho = 1\n",
    "Irho = penalty.Irho(C, lam, rho)\n",
    "print(np.shape(Irho))\n",
    "\n",
    "gpenalty = penalty.grad_penalty(\n",
    "    X, U, Irho, C_wall_sys, D_wall_sys, F_sys, G_sys, r, list_cola\n",
    ")\n",
    "print(np.shape(gpenalty))"
   ]
  },
  {
   "cell_type": "code",
   "execution_count": 49,
   "id": "ce0f4481",
   "metadata": {},
   "outputs": [
    {
     "name": "stdout",
     "output_type": "stream",
     "text": [
      "34459.784275000005\n",
      "(90,)\n"
     ]
    }
   ],
   "source": [
    "import aug_lagrangian\n",
    "\n",
    "mu = np.ones(M * N * n)\n",
    "L_v = aug_lagrangian.L_v(u_v, N, n, mu, lam, Irho, J_v, D, C)\n",
    "print(L_v)\n",
    "\n",
    "gL_v = aug_lagrangian.grad_L_v(u_v, N, n, m, mu, lam, gJ_v, gD, gC, gpenalty)\n",
    "print(np.shape(gL_v))"
   ]
  },
  {
   "cell_type": "code",
   "execution_count": 50,
   "id": "6e7ebd42",
   "metadata": {},
   "outputs": [
    {
     "name": "stdout",
     "output_type": "stream",
     "text": [
      "(150,)\n",
      "(330,)\n"
     ]
    }
   ],
   "source": [
    "dynamics_mult = 100\n",
    "\n",
    "y0 = np.concatenate((X, U, mu))\n",
    "gAL = aug_lagrangian.grad_aug_lagrangian(\n",
    "    y0,\n",
    "    M,\n",
    "    N,\n",
    "    n,\n",
    "    m,\n",
    "    lam,\n",
    "    rho,\n",
    "    Q,\n",
    "    Qf,\n",
    "    R,\n",
    "    list_x0,\n",
    "    list_xf,\n",
    "    A_sys,\n",
    "    B_sys,\n",
    "    E_sys,\n",
    "    C_wall_sys,\n",
    "    D_wall_sys,\n",
    "    F_sys,\n",
    "    G_sys,\n",
    "    r,\n",
    "    list_cola,\n",
    "    dynamics_mult\n",
    ")\n",
    "print(np.shape(y))\n",
    "print(np.shape(gAL))"
   ]
  },
  {
   "cell_type": "code",
   "execution_count": 51,
   "id": "12f13668",
   "metadata": {},
   "outputs": [
    {
     "name": "stdout",
     "output_type": "stream",
     "text": [
      "186.0726546975946\n"
     ]
    }
   ],
   "source": [
    "from scipy import optimize\n",
    "\n",
    "al_args = (\n",
    "    M,\n",
    "    N,\n",
    "    n,\n",
    "    m,\n",
    "    lam,\n",
    "    rho,\n",
    "    Q,\n",
    "    Qf,\n",
    "    R,\n",
    "    list_x0,\n",
    "    list_xf,\n",
    "    A_sys,\n",
    "    B_sys,\n",
    "    E_sys,\n",
    "    C_wall_sys,\n",
    "    D_wall_sys,\n",
    "    F_sys,\n",
    "    G_sys,\n",
    "    r,\n",
    "    list_cola,\n",
    "    dynamics_mult\n",
    ")\n",
    "\n",
    "# currently uses derivative free method\n",
    "sol = optimize.root(\n",
    "    aug_lagrangian.grad_aug_lagrangian, y0, method=\"lm\", jac=False, args=al_args\n",
    ")\n",
    "y = sol.x\n",
    "print(np.linalg.norm(aug_lagrangian.grad_aug_lagrangian(y,*al_args)))"
   ]
  },
  {
   "cell_type": "markdown",
   "id": "ee2afd6c",
   "metadata": {},
   "source": [
    "### Hessian"
   ]
  },
  {
   "cell_type": "code",
   "execution_count": 52,
   "id": "f7140a3a",
   "metadata": {},
   "outputs": [],
   "source": [
    "len_xu = len(X) + len(U)\n",
    "len_y = len(X) + len(U) + len(mu)"
   ]
  },
  {
   "cell_type": "code",
   "execution_count": 53,
   "id": "03c4bc26",
   "metadata": {},
   "outputs": [
    {
     "name": "stdout",
     "output_type": "stream",
     "text": [
      "(90, 60, 150)\n",
      "60\n"
     ]
    }
   ],
   "source": [
    "matrix = np.zeros(np.shape(np.hstack((A_sys, B_sys))))\n",
    "matrix = np.hstack((matrix, np.eye(len(X))))\n",
    "hess_D = np.array([matrix] * len_xu)\n",
    "print(np.shape(hess_D))\n",
    "print(len(mu))\n",
    "# print(np.shape(mu.T @ hess_D))"
   ]
  },
  {
   "cell_type": "code",
   "execution_count": 54,
   "id": "b489903b",
   "metadata": {},
   "outputs": [
    {
     "name": "stdout",
     "output_type": "stream",
     "text": [
      "(90, 150)\n"
     ]
    }
   ],
   "source": [
    "# wrt x\n",
    "Q_sys = linalg.block_diag(*(([Q] * (N - 1) + [Qf]) * M))\n",
    "J_x = np.vstack((Q_sys, np.zeros((len(U),len(X)))))\n",
    "\n",
    "# wrt u\n",
    "R_sys = linalg.block_diag(*([R] * M * N))\n",
    "J_u = np.vstack((np.zeros((len(X),len(U))), R_sys))\n",
    "\n",
    "# wrt mu\n",
    "J_mu = np.zeros((len_xu, len(mu)))\n",
    "\n",
    "hess_J_v = np.hstack((J_x, J_u, J_mu))\n",
    "print(np.shape(hess_J_v))"
   ]
  },
  {
   "cell_type": "code",
   "execution_count": 55,
   "id": "d1524951",
   "metadata": {},
   "outputs": [
    {
     "name": "stdout",
     "output_type": "stream",
     "text": [
      "(90, 15, 150)\n"
     ]
    }
   ],
   "source": [
    "grad_C_wall = np.hstack((C_wall_sys, np.zeros((np.shape(C_wall_sys)[0], len(U))), C_wall_sys))\n",
    "matrix = np.zeros(np.shape(grad_C_wall))\n",
    "hess_C_wall = np.array([matrix] * len_xu)\n",
    "print(np.shape(hess_C_wall))"
   ]
  },
  {
   "cell_type": "code",
   "execution_count": 56,
   "id": "856c5b9e",
   "metadata": {},
   "outputs": [
    {
     "name": "stdout",
     "output_type": "stream",
     "text": [
      "(90, 60, 150)\n"
     ]
    }
   ],
   "source": [
    "grad_C_input = np.hstack((np.zeros((np.shape(F_sys)[0], len(X) * 2)), F_sys))\n",
    "matrix = np.zeros(np.shape(grad_C_input))\n",
    "hess_C_input = np.array([matrix] * len_xu)\n",
    "print(np.shape(hess_C_input))"
   ]
  },
  {
   "cell_type": "code",
   "execution_count": 57,
   "id": "2ef56ca6",
   "metadata": {},
   "outputs": [
    {
     "data": {
      "text/plain": [
       "(90, 15, 150)"
      ]
     },
     "execution_count": 57,
     "metadata": {},
     "output_type": "execute_result"
    }
   ],
   "source": [
    "C_xu = np.dstack(\n",
    "    [\n",
    "        np.vstack((np.hstack((-C_k.T @ C_k, np.zeros((len(X), len(U))), np.zeros((len(X), len(mu))))), np.zeros((len(U), len_xu + len(X))) ))\n",
    "        for C_k in list_cola\n",
    "    ]\n",
    ")\n",
    "hess_C_cola = np.reshape(C_xu, (len_xu, -1, len_y))\n",
    "np.shape(hess_C_cola)"
   ]
  },
  {
   "cell_type": "code",
   "execution_count": 58,
   "id": "8d65622d",
   "metadata": {},
   "outputs": [
    {
     "name": "stdout",
     "output_type": "stream",
     "text": [
      "(90, 90, 150)\n",
      "(90,)\n",
      "(90, 150)\n"
     ]
    }
   ],
   "source": [
    "# all constraints\n",
    "hess_C = np.concatenate((hess_C_wall, hess_C_input, hess_C_cola), axis=1)\n",
    "print(np.shape(hess_C))\n",
    "print(np.shape(lam))\n",
    "print(np.shape(lam.T @ hess_C))"
   ]
  },
  {
   "cell_type": "code",
   "execution_count": 59,
   "id": "1bd0a6b4",
   "metadata": {},
   "outputs": [
    {
     "name": "stdout",
     "output_type": "stream",
     "text": [
      "(90, 150)\n"
     ]
    }
   ],
   "source": [
    "irho_vec = np.diag(Irho)\n",
    "\n",
    "# wall\n",
    "size_wall = np.shape(C_wall_sys)[0]\n",
    "Irho1 = np.diag(irho_vec[:size_wall])\n",
    "c_wall_x = np.vstack(\n",
    "    (C_wall_sys.T @ Irho1 @ C_wall_sys, np.zeros((len(U), len(X))))\n",
    ")\n",
    "c_wall_u = np.zeros((len_xu, len(U)))\n",
    "c_wall_mu = np.zeros((len_xu, len(mu)))\n",
    "c_wall = np.hstack((c_wall_x, c_wall_u, c_wall_mu))\n",
    "\n",
    "# input\n",
    "size_input = np.shape(F_sys)[0]\n",
    "Irho2 = np.diag(irho_vec[size_wall : size_wall + size_input])\n",
    "c_input_x = np.zeros((len_xu, len(X)))\n",
    "c_input_u = np.vstack((np.zeros((len(X), len(U))), F_sys.T @ Irho2 @ F_sys))\n",
    "c_input_mu = np.zeros((len_xu, len(mu)))\n",
    "c_input = np.hstack((c_input_x, c_input_u, c_input_mu))\n",
    "\n",
    "# cola\n",
    "size_cola = len(list_cola)\n",
    "assert size_wall + size_input + size_cola == len(irho_vec)\n",
    "irho3_vec = irho_vec[size_wall + size_input :]\n",
    "c_cola_x = np.sum(\n",
    "    [\n",
    "        np.vstack(\n",
    "            (\n",
    "                -2 * C_k.T @ C_k * rho_k * (r**2 - (C_k @ X).T @ (C_k @ X)),\n",
    "                np.zeros((len(U), len(X))),\n",
    "            )\n",
    "        )\n",
    "        for C_k, rho_k in zip(list_cola, irho3_vec)\n",
    "    ],\n",
    "    axis=0,\n",
    ")\n",
    "c_cola_u = np.zeros((len_xu, len(U)))\n",
    "c_cola_mu = np.zeros((len_xu, len(mu)))\n",
    "c_cola = np.hstack((c_cola_x, c_cola_u, c_cola_mu))\n",
    "\n",
    "hess_penalty = c_wall + c_input + c_cola\n",
    "print(np.shape(hess_penalty))"
   ]
  },
  {
   "cell_type": "code",
   "execution_count": 60,
   "id": "246162f0",
   "metadata": {},
   "outputs": [
    {
     "name": "stdout",
     "output_type": "stream",
     "text": [
      "(90, 150) (90, 150) (90, 150) (60, 150)\n",
      "(150,)\n",
      "(330, 150)\n"
     ]
    }
   ],
   "source": [
    "dynamics_mult = 100\n",
    "\n",
    "y0 = np.concatenate((X, U, mu))\n",
    "hAL = aug_lagrangian.hess_aug_lagrangian(\n",
    "    y0,\n",
    "    M,\n",
    "    N,\n",
    "    n,\n",
    "    m,\n",
    "    lam,\n",
    "    rho,\n",
    "    Q,\n",
    "    Qf,\n",
    "    R,\n",
    "    list_x0,\n",
    "    list_xf,\n",
    "    A_sys,\n",
    "    B_sys,\n",
    "    E_sys,\n",
    "    C_wall_sys,\n",
    "    D_wall_sys,\n",
    "    F_sys,\n",
    "    G_sys,\n",
    "    r,\n",
    "    list_cola,\n",
    "    dynamics_mult\n",
    ")\n",
    "print(np.shape(y))\n",
    "print(np.shape(hAL))"
   ]
  },
  {
   "cell_type": "code",
   "execution_count": 61,
   "id": "d1cd20cc",
   "metadata": {},
   "outputs": [
    {
     "name": "stdout",
     "output_type": "stream",
     "text": [
      "(90, 150) (90, 150) (90, 150) (60, 150)\n",
      "(90, 150) (90, 150) (90, 150) (60, 150)\n",
      "(90, 150) (90, 150) (90, 150) (60, 150)\n",
      "(90, 150) (90, 150) (90, 150) (60, 150)\n",
      "2712.9275327457754\n"
     ]
    }
   ],
   "source": [
    "from scipy import optimize\n",
    "\n",
    "al_args = (\n",
    "    M,\n",
    "    N,\n",
    "    n,\n",
    "    m,\n",
    "    lam,\n",
    "    rho,\n",
    "    Q,\n",
    "    Qf,\n",
    "    R,\n",
    "    list_x0,\n",
    "    list_xf,\n",
    "    A_sys,\n",
    "    B_sys,\n",
    "    E_sys,\n",
    "    C_wall_sys,\n",
    "    D_wall_sys,\n",
    "    F_sys,\n",
    "    G_sys,\n",
    "    r,\n",
    "    list_cola,\n",
    "    dynamics_mult\n",
    ")\n",
    "\n",
    "# currently uses derivative free method\n",
    "sol = optimize.root(\n",
    "    aug_lagrangian.grad_aug_lagrangian, y0, method=\"lm\", jac=aug_lagrangian.hess_aug_lagrangian, args=al_args\n",
    ")\n",
    "y = sol.x\n",
    "print(np.linalg.norm(aug_lagrangian.grad_aug_lagrangian(y,*al_args)))"
   ]
  },
  {
   "cell_type": "code",
   "execution_count": 62,
   "id": "1f134544",
   "metadata": {},
   "outputs": [
    {
     "data": {
      "text/plain": [
       "330"
      ]
     },
     "execution_count": 62,
     "metadata": {},
     "output_type": "execute_result"
    }
   ],
   "source": [
    "90*3 + 60"
   ]
  },
  {
   "cell_type": "code",
   "execution_count": 63,
   "id": "e59ee41f",
   "metadata": {},
   "outputs": [
    {
     "data": {
      "text/plain": [
       "150"
      ]
     },
     "execution_count": 63,
     "metadata": {},
     "output_type": "execute_result"
    }
   ],
   "source": [
    "len(y)"
   ]
  },
  {
   "cell_type": "code",
   "execution_count": null,
   "id": "38ac296a",
   "metadata": {},
   "outputs": [],
   "source": []
  }
 ],
 "metadata": {
  "kernelspec": {
   "display_name": "Python 3",
   "language": "python",
   "name": "python3"
  },
  "language_info": {
   "codemirror_mode": {
    "name": "ipython",
    "version": 3
   },
   "file_extension": ".py",
   "mimetype": "text/x-python",
   "name": "python",
   "nbconvert_exporter": "python",
   "pygments_lexer": "ipython3",
   "version": "3.8.2"
  }
 },
 "nbformat": 4,
 "nbformat_minor": 5
}
