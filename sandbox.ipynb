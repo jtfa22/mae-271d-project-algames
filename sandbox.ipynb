{
 "cells": [
  {
   "cell_type": "code",
   "execution_count": 13,
   "id": "1eae5558",
   "metadata": {},
   "outputs": [],
   "source": [
    "import numpy as np\n",
    "import scipy as sp\n",
    "from scipy import linalg\n"
   ]
  },
  {
   "cell_type": "markdown",
   "id": "6396aa25",
   "metadata": {},
   "source": [
    "- assume double integrator model"
   ]
  },
  {
   "cell_type": "code",
   "execution_count": 2,
   "id": "1dc70e69",
   "metadata": {},
   "outputs": [],
   "source": [
    "# M players\n",
    "M = 3\n",
    "\n",
    "# N time steps\n",
    "N = 10\n",
    "\n",
    "# n state size\n",
    "n = 4 # (x, y, v_x, v_y)\n",
    "\n",
    "# m control input size\n",
    "m = 2 # (a_x, a_y)\n",
    "\n",
    "# timestep\n",
    "dt = 0.01"
   ]
  },
  {
   "cell_type": "markdown",
   "id": "8b0066f8",
   "metadata": {},
   "source": [
    "### States\n",
    "\n",
    "$X^v$ and $U^v$ trajectory for each player $v$ basically like the CFTOCP batch approach without substitution from HW1\n",
    "\n",
    "$X^v = [x_1, ... x_N]$ and $U^v = [u_0, ... u_{N-1}]$\n",
    "\n",
    "For the full Nash equilibium problem, just concatenate all the players trajectories together \n",
    "\n",
    "$X = [X^1, X^2, ..., X^m]$ and $U = [U^1, U^2, ..., U^m]$\n",
    "\n"
   ]
  },
  {
   "cell_type": "markdown",
   "id": "cfaaea95",
   "metadata": {},
   "source": [
    "### Dynamics\n",
    "\n",
    "$D(X,U)$ contains all trajectories and control inputs stacked"
   ]
  },
  {
   "cell_type": "code",
   "execution_count": null,
   "id": "f0d6cfd5",
   "metadata": {},
   "outputs": [],
   "source": [
    "# double integrator\n",
    "A = np.eye(n) + np.diag([dt, dt], k=int(n / 2))\n",
    "B = np.vstack((np.eye(m) * dt**2 / 2, (np.eye(m) * dt)))\n",
    "\n",
    "# player dynamics\n",
    "# A_eq * X_v + B_eq * U_v = E_eq\n",
    "a_block = linalg.block_diag(*([-A] * (N - 1)))\n",
    "A_eq = np.eye(N * n) + np.pad(a_block, [(n, 0), (0, n)])\n",
    "B_eq = linalg.block_diag(*([-B] * N))\n",
    "E_eq = np.vstack((A, np.zeros(((N - 1) * n, n))))\n",
    "\n",
    "# system dynamics for all players\n",
    "# A_sys * X + B_sys * U = E_sys\n",
    "A_sys = linalg.block_diag(*([A_eq] * M))\n",
    "B_sys = linalg.block_diag(*([B_eq] * M))\n",
    "E_sys = np.vstack(([E_eq] * M))"
   ]
  },
  {
   "cell_type": "code",
   "execution_count": null,
   "id": "40404ccd",
   "metadata": {},
   "outputs": [
    {
     "data": {
      "text/plain": [
       "(120, 120)"
      ]
     },
     "execution_count": 17,
     "metadata": {},
     "output_type": "execute_result"
    }
   ],
   "source": []
  },
  {
   "cell_type": "code",
   "execution_count": null,
   "id": "68dfab2f",
   "metadata": {},
   "outputs": [],
   "source": []
  }
 ],
 "metadata": {
  "kernelspec": {
   "display_name": "Python 3",
   "language": "python",
   "name": "python3"
  },
  "language_info": {
   "codemirror_mode": {
    "name": "ipython",
    "version": 3
   },
   "file_extension": ".py",
   "mimetype": "text/x-python",
   "name": "python",
   "nbconvert_exporter": "python",
   "pygments_lexer": "ipython3",
   "version": "3.8.2"
  }
 },
 "nbformat": 4,
 "nbformat_minor": 5
}
