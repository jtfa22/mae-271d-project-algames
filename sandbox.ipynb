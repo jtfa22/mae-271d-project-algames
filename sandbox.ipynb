{
 "cells": [
  {
   "cell_type": "code",
   "execution_count": 1,
   "id": "1eae5558",
   "metadata": {},
   "outputs": [],
   "source": [
    "import numpy as np\n",
    "import scipy as sp\n",
    "from scipy import linalg\n"
   ]
  },
  {
   "cell_type": "markdown",
   "id": "6396aa25",
   "metadata": {},
   "source": [
    "- assume double integrator model"
   ]
  },
  {
   "cell_type": "code",
   "execution_count": 2,
   "id": "1dc70e69",
   "metadata": {},
   "outputs": [],
   "source": [
    "# M players\n",
    "M = 3\n",
    "\n",
    "# N time steps\n",
    "N = 5\n",
    "\n",
    "# n state size\n",
    "n = 4 # (x, y, v_x, v_y)\n",
    "\n",
    "# m control input size\n",
    "m = 2 # (a_x, a_y)\n",
    "\n",
    "# timestep\n",
    "dt = 0.01\n",
    "\n",
    "# collision avoidance radius\n",
    "r = 0.5"
   ]
  },
  {
   "cell_type": "markdown",
   "id": "8b0066f8",
   "metadata": {},
   "source": [
    "### States\n",
    "\n",
    "$X^v$ and $U^v$ trajectory for each player $v$ basically like the CFTOCP batch approach without substitution from HW1\n",
    "\n",
    "$X^v = [x_1, ... x_N]$ and $U^v = [u_0, ... u_{N-1}]$\n",
    "\n",
    "For the full Nash equilibium problem, just concatenate all the players trajectories together \n",
    "\n",
    "$X = [X^1, X^2, ..., X^m]$ and $U = [U^1, U^2, ..., U^m]$\n",
    "\n"
   ]
  },
  {
   "cell_type": "markdown",
   "id": "cfaaea95",
   "metadata": {},
   "source": [
    "### Dynamics\n",
    "\n",
    "$D(X,U)$ contains all trajectories and control inputs stacked"
   ]
  },
  {
   "cell_type": "code",
   "execution_count": 3,
   "id": "f0d6cfd5",
   "metadata": {},
   "outputs": [],
   "source": [
    "# double integrator\n",
    "A = np.eye(n) + np.diag([dt, dt], k=int(n / 2))\n",
    "B = np.vstack((np.eye(m) * dt**2 / 2, (np.eye(m) * dt)))\n",
    "\n",
    "# player dynamics\n",
    "# A_eq * X_v + B_eq * U_v = E_eq\n",
    "a_block = linalg.block_diag(*([-A] * (N - 1)))\n",
    "A_eq = np.eye(N * n) + np.pad(a_block, [(n, 0), (0, n)])\n",
    "B_eq = linalg.block_diag(*([-B] * N))\n",
    "E_eq = np.vstack((A, np.zeros(((N - 1) * n, n))))\n",
    "\n",
    "# system dynamics for all players\n",
    "# A_sys * X + B_sys * U = E_sys\n",
    "A_sys = linalg.block_diag(*([A_eq] * M))\n",
    "B_sys = linalg.block_diag(*([B_eq] * M))\n",
    "E_sys = np.vstack(([E_eq] * M))"
   ]
  },
  {
   "cell_type": "markdown",
   "id": "0fbf3d4b",
   "metadata": {},
   "source": [
    "### Inequality Constraints\n",
    "\n",
    "1) walls: all position + radius should not exceed value (assume only horizontal/vertical walls)\n",
    "\n",
    "$C_{wall}X - (D_{wall} - R) \\leq 0$\n",
    "\n",
    "2) collision avoidance: player position + radius not exceed another player position\n",
    "\n",
    "$R^2 - ||x_k^v - x_k^{v'} ||_2^2 \\leq 0$\n",
    "\n",
    "3) control input bounds: bounds on control input centered at zero\n",
    "\n",
    "$-B \\leq U \\leq B$"
   ]
  },
  {
   "cell_type": "code",
   "execution_count": 4,
   "id": "40404ccd",
   "metadata": {},
   "outputs": [],
   "source": [
    "# position wall bounds\n",
    "# example wall at y = 2 (extends forever)\n",
    "wall_y = 2.0\n",
    "ind_y = 1  # index corresponding to y position in state\n",
    "\n",
    "# for single state k\n",
    "# c_wall_ineq * x_k - d_wall_ineq <= 0\n",
    "c_wall_ineq = np.zeros(n)\n",
    "c_wall_ineq[ind_y] = 1\n",
    "d_wall_ineq = wall_y - r\n",
    "\n",
    "# for single player\n",
    "# C_wall_ineq * X_v - D_wall_ineq <= 0\n",
    "C_wall_ineq = linalg.block_diag(*([c_wall_ineq] * N))\n",
    "D_wall_ineq = np.vstack(([d_wall_ineq]*N))\n",
    "\n",
    "# for all players\n",
    "# C_wall_sys * X - D_wall_sys <= 0\n",
    "C_wall_sys = linalg.block_diag(*([C_wall_ineq] * M))\n",
    "D_wall_sys = np.vstack(([D_wall_ineq]*M))"
   ]
  },
  {
   "cell_type": "code",
   "execution_count": 5,
   "id": "68dfab2f",
   "metadata": {},
   "outputs": [],
   "source": [
    "# collision avoidance with other players\n",
    "# will need to be formulated per timestep k, per players v1, v2\n",
    "# r - (C_cola * X).T @ (C_cola * X) <= 0\n",
    "\n",
    "# select position from the states\n",
    "pos = np.hstack((np.eye(2), np.zeros((2, 2))))\n",
    "\n",
    "for k in range(N):  # timestep\n",
    "    for v1 in range(M):  # player 1\n",
    "        for v2 in range(v1 + 1, M):  # player 2\n",
    "            c_block = [np.zeros((2, n))] * N * M\n",
    "            ind1 = v1 * N + k\n",
    "            ind2 = v2 * N + k\n",
    "            c_block[ind1] = pos\n",
    "            c_block[ind2] = -1 * pos\n",
    "            C_cola = np.hstack(c_block)\n",
    "\n",
    "# will need to stack up all of these individually after evaluating the quadratic\n",
    "\n",
    "# there might be better way linear algebra wise to stack them together but prob \n",
    "# is gonna make the derivative worse to find"
   ]
  },
  {
   "cell_type": "code",
   "execution_count": 6,
   "id": "77fc4dfb",
   "metadata": {},
   "outputs": [],
   "source": [
    "# control input bounds\n",
    "# example u_x <= 5 (for all time)\n",
    "u_x_max = 5.0\n",
    "ind_x = 0  # index corresponding to x position in control\n",
    "\n",
    "# for single state k\n",
    "# f_ineq * x_k - g_ineq <= 0\n",
    "f_ineq = np.zeros((2,m))\n",
    "f_ineq[0,ind_x] = 1\n",
    "f_ineq[1,ind_x] = -1\n",
    "g_ineq = np.ones((2,1)) * u_x_max\n",
    "\n",
    "# for single player\n",
    "# F_ineq * X_v - G_ineq <= 0\n",
    "F_ineq = linalg.block_diag(*([f_ineq] * N))\n",
    "G_ineq = np.vstack(([g_ineq]*N))\n",
    "\n",
    "# for all players\n",
    "# f_sys * X - g_sys <= 0\n",
    "F_sys = linalg.block_diag(*([F_ineq] * M))\n",
    "G_sys = np.vstack(([G_ineq]*M))"
   ]
  },
  {
   "cell_type": "code",
   "execution_count": null,
   "id": "d53a331f",
   "metadata": {},
   "outputs": [],
   "source": []
  }
 ],
 "metadata": {
  "kernelspec": {
   "display_name": "Python 3",
   "language": "python",
   "name": "python3"
  },
  "language_info": {
   "codemirror_mode": {
    "name": "ipython",
    "version": 3
   },
   "file_extension": ".py",
   "mimetype": "text/x-python",
   "name": "python",
   "nbconvert_exporter": "python",
   "pygments_lexer": "ipython3",
   "version": "3.8.2"
  }
 },
 "nbformat": 4,
 "nbformat_minor": 5
}
