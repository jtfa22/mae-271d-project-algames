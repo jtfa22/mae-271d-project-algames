{
 "cells": [
  {
   "cell_type": "code",
   "execution_count": 1,
   "id": "1eae5558",
   "metadata": {},
   "outputs": [],
   "source": [
    "import numpy as np\n",
    "import scipy as sp\n",
    "from scipy import linalg"
   ]
  },
  {
   "cell_type": "markdown",
   "id": "6396aa25",
   "metadata": {},
   "source": [
    "- assume double integrator model"
   ]
  },
  {
   "cell_type": "code",
   "execution_count": 2,
   "id": "1dc70e69",
   "metadata": {},
   "outputs": [],
   "source": [
    "# M players\n",
    "M = 3\n",
    "\n",
    "# N time steps\n",
    "N = 5\n",
    "\n",
    "# n state size\n",
    "n = 4  # (x, y, v_x, v_y)\n",
    "\n",
    "# m control input size\n",
    "m = 2  # (a_x, a_y)\n",
    "\n",
    "# timestep\n",
    "dt = 0.01\n",
    "\n",
    "# collision avoidance radius\n",
    "r = 0.5"
   ]
  },
  {
   "cell_type": "markdown",
   "id": "8b0066f8",
   "metadata": {},
   "source": [
    "### States\n",
    "\n",
    "$X^v$ and $U^v$ trajectory for each player $v$ basically like the CFTOCP batch approach without substitution from HW1\n",
    "\n",
    "$X^v = [x_1, ... x_N]$ and $U^v = [u_0, ... u_{N-1}]$\n",
    "\n",
    "For the full Nash equilibium problem, just concatenate all the players trajectories together \n",
    "\n",
    "$X = [X^1, X^2, ..., X^m]$ and $U = [U^1, U^2, ..., U^m]$\n",
    "\n"
   ]
  },
  {
   "cell_type": "markdown",
   "id": "cfaaea95",
   "metadata": {},
   "source": [
    "### Dynamics\n",
    "\n",
    "$D(X,U)$ contains all trajectories and control inputs stacked"
   ]
  },
  {
   "cell_type": "code",
   "execution_count": 3,
   "id": "f0d6cfd5",
   "metadata": {},
   "outputs": [],
   "source": [
    "# double integrator\n",
    "A = np.eye(n) + np.diag([dt, dt], k=int(n / 2))\n",
    "B = np.vstack((np.eye(m) * dt**2 / 2, (np.eye(m) * dt)))\n",
    "\n",
    "# player dynamics\n",
    "# A_eq * X_v + B_eq * U_v = E_eq\n",
    "a_block = linalg.block_diag(*([-A] * (N - 1)))\n",
    "A_eq = np.eye(N * n) + np.pad(a_block, [(n, 0), (0, n)])\n",
    "B_eq = linalg.block_diag(*([-B] * N))\n",
    "E_eq = np.vstack((A, np.zeros(((N - 1) * n, n))))\n",
    "\n",
    "# system dynamics for all players\n",
    "# A_sys * X + B_sys * U = E_sys\n",
    "A_sys = linalg.block_diag(*([A_eq] * M))\n",
    "B_sys = linalg.block_diag(*([B_eq] * M))\n",
    "E_sys = np.vstack(([E_eq] * M))"
   ]
  },
  {
   "cell_type": "code",
   "execution_count": 4,
   "id": "31d9e9a4",
   "metadata": {},
   "outputs": [
    {
     "name": "stdout",
     "output_type": "stream",
     "text": [
      "(60, 60) (60, 30) (60, 4)\n",
      "(20, 20) (20, 10) (20, 4)\n",
      "(4, 4) (4, 2)\n"
     ]
    }
   ],
   "source": [
    "print(np.shape(A_sys), np.shape(B_sys), np.shape(E_sys))\n",
    "print(np.shape(A_eq), np.shape(B_eq), np.shape(E_eq))\n",
    "print(np.shape(A), np.shape(B))"
   ]
  },
  {
   "cell_type": "markdown",
   "id": "0fbf3d4b",
   "metadata": {},
   "source": [
    "### Inequality Constraints\n",
    "\n",
    "1) walls: all position + radius should not exceed value (assume only horizontal/vertical walls)\n",
    "\n",
    "$C_{wall}X - (D_{wall} - R) \\leq 0$\n",
    "\n",
    "2) collision avoidance: player position + radius not exceed another player position\n",
    "\n",
    "$R^2 - ||x_k^v - x_k^{v'} ||_2^2 \\leq 0$\n",
    "\n",
    "3) control input bounds: bounds on control input centered at zero\n",
    "\n",
    "$-B \\leq U \\leq B$"
   ]
  },
  {
   "cell_type": "code",
   "execution_count": 5,
   "id": "40404ccd",
   "metadata": {},
   "outputs": [
    {
     "name": "stdout",
     "output_type": "stream",
     "text": [
      "(5,)\n",
      "(15, 60) (15,)\n"
     ]
    }
   ],
   "source": [
    "# position wall bounds\n",
    "# example wall at y = 2 (extends forever)\n",
    "wall_y = 2.0\n",
    "ind_y = 1  # index corresponding to y position in state\n",
    "\n",
    "# for single state k\n",
    "# c_wall_ineq * x_k - d_wall_ineq <= 0\n",
    "c_wall_ineq = np.zeros(n)\n",
    "c_wall_ineq[ind_y] = 1\n",
    "d_wall_ineq = wall_y - r\n",
    "\n",
    "# for single player\n",
    "# C_wall_ineq * X_v - D_wall_ineq <= 0\n",
    "C_wall_ineq = linalg.block_diag(*([c_wall_ineq] * N))\n",
    "D_wall_ineq = np.array(([d_wall_ineq] * N))\n",
    "\n",
    "# for all players\n",
    "# C_wall_sys * X - D_wall_sys <= 0\n",
    "C_wall_sys = linalg.block_diag(*([C_wall_ineq] * M))\n",
    "D_wall_sys = np.tile(D_wall_ineq, M)\n",
    "\n",
    "\n",
    "print(np.shape(D_wall_ineq))\n",
    "print(np.shape(C_wall_sys), np.shape(D_wall_sys))"
   ]
  },
  {
   "cell_type": "code",
   "execution_count": 6,
   "id": "68dfab2f",
   "metadata": {},
   "outputs": [
    {
     "data": {
      "text/plain": [
       "(15, 2, 60)"
      ]
     },
     "execution_count": 6,
     "metadata": {},
     "output_type": "execute_result"
    }
   ],
   "source": [
    "# collision avoidance with other players\n",
    "# will need to be formulated per timestep k, per players v1, v2\n",
    "# r - (C_cola_k_v1_v2 * X).T @ (C_cola_k_v1_v2 * X) <= 0\n",
    "\n",
    "# select position from the states\n",
    "pos = np.hstack((np.eye(2), np.zeros((2, 2))))\n",
    "\n",
    "list_cola = []\n",
    "for k in range(N):  # timestep\n",
    "    for v1 in range(M):  # player 1\n",
    "        for v2 in range(v1 + 1, M):  # player 2\n",
    "            c_block = [np.zeros((2, n))] * N * M\n",
    "            ind1 = v1 * N + k\n",
    "            ind2 = v2 * N + k\n",
    "            c_block[ind1] = pos\n",
    "            c_block[ind2] = -1 * pos\n",
    "            C_cola = np.hstack(c_block)\n",
    "            list_cola.append(C_cola)\n",
    "\n",
    "# will need to stack up all of these individually after evaluating the quadratic\n",
    "\n",
    "# there might be better way linear algebra wise to stack them together but prob\n",
    "# is gonna make the derivative worse to find\n",
    "np.shape(list_cola)"
   ]
  },
  {
   "cell_type": "code",
   "execution_count": 7,
   "id": "bf6b8353",
   "metadata": {},
   "outputs": [
    {
     "name": "stdout",
     "output_type": "stream",
     "text": [
      "(4,)\n",
      "(20,)\n",
      "(60, 30) (60,)\n"
     ]
    }
   ],
   "source": [
    "# control input bounds\n",
    "max_x = 5\n",
    "max_y = 5\n",
    "\n",
    "ind_x = 0  # index corresponding to x position in control\n",
    "ind_y = 1\n",
    "f_ineq = np.zeros((4, m))\n",
    "f_ineq[0, ind_x] = 1\n",
    "f_ineq[1, ind_x] = -1\n",
    "f_ineq[2, ind_y] = 1\n",
    "f_ineq[3, ind_y] = -1\n",
    "g_ineq = np.array(([max_x] * 2 + [max_y] * 2))\n",
    "\n",
    "F_ineq = linalg.block_diag(*([f_ineq] * N))\n",
    "G_ineq = np.tile(g_ineq, N)\n",
    "\n",
    "F_sys = linalg.block_diag(*([F_ineq] * M))\n",
    "G_sys = np.tile(G_ineq, M)\n",
    "\n",
    "print(np.shape(g_ineq))\n",
    "print(np.shape(G_ineq))\n",
    "print(np.shape(F_sys), np.shape(G_sys))"
   ]
  },
  {
   "cell_type": "markdown",
   "id": "640eb6d6",
   "metadata": {},
   "source": [
    "### Objective"
   ]
  },
  {
   "cell_type": "code",
   "execution_count": 8,
   "id": "28ab7709",
   "metadata": {},
   "outputs": [
    {
     "data": {
      "text/plain": [
       "62326.00000000001"
      ]
     },
     "execution_count": 8,
     "metadata": {},
     "output_type": "execute_result"
    }
   ],
   "source": [
    "# X = np.random.rand(N*M*n)\n",
    "X = np.array(range(M * N * n))\n",
    "U = np.array(range(M * N * m)) * 0.1\n",
    "\n",
    "xf = np.array([1, 1, 2, 2])\n",
    "Q = np.eye(n) * 2\n",
    "Qf = np.eye(n) * 5\n",
    "R = np.eye(m) * 10\n",
    "\n",
    "u_v = 2\n",
    "\n",
    "cost = 0\n",
    "# trajectory states\n",
    "for k in range(0, N - 2):\n",
    "    for v in range(M):\n",
    "        ind = (v * N + k) * n\n",
    "        xk = X[ind : ind + n]\n",
    "        cost += 0.5 * (xk - xf).T @ Q @ (xk - xf)\n",
    "\n",
    "# final state\n",
    "k = N - 1\n",
    "ind = (v * N + k) * n\n",
    "xk = X[ind : ind + n]\n",
    "cost += 0.5 * (xk - xf).T @ Qf @ (xk - xf)\n",
    "\n",
    "# player control input\n",
    "for k in range(0, N - 1):\n",
    "    ind = (u_v * N + k) * m\n",
    "    uk = U[ind : ind + m]\n",
    "    cost += 0.5 * uk.T @ R @ uk\n",
    "cost"
   ]
  },
  {
   "cell_type": "code",
   "execution_count": 9,
   "id": "c297306b",
   "metadata": {},
   "outputs": [
    {
     "name": "stdout",
     "output_type": "stream",
     "text": [
      "(10,) (10, 10)\n",
      "(60,) (10,)\n",
      "(60,) (30,)\n"
     ]
    }
   ],
   "source": [
    "# wrt x\n",
    "xf_sys = np.tile(np.reshape(xf, (n,)), N * M)\n",
    "Q_sys = linalg.block_diag(*(([Q] * (N - 1) + [Qf]) * M))\n",
    "J_x = (X - xf_sys).T @ Q_sys\n",
    "\n",
    "# wrt u\n",
    "ind = (u_v * N) * m\n",
    "Uv = U[ind : ind + N * m]\n",
    "R_sys = linalg.block_diag(*([R] * N))\n",
    "J_u = Uv.T @ R_sys\n",
    "\n",
    "np.hstack((J_x, J_u))\n",
    "print(np.shape(Uv), np.shape(R_sys))\n",
    "print(np.shape(J_x), np.shape(J_u))\n",
    "print(np.shape(X), np.shape(U))"
   ]
  },
  {
   "cell_type": "markdown",
   "id": "939c4856",
   "metadata": {},
   "source": [
    "### Augmented Lagrangian\n",
    "\n",
    "$ L^v(X,U) = J^v + \\mu^{v\\top} D + \\lambda^\\top C + \\frac{1}{2}C^\\top I_\\rho C\n",
    "$"
   ]
  },
  {
   "cell_type": "code",
   "execution_count": null,
   "id": "d53a331f",
   "metadata": {},
   "outputs": [],
   "source": []
  },
  {
   "cell_type": "markdown",
   "id": "4ad9c43e",
   "metadata": {},
   "source": [
    "### Check dimensions"
   ]
  },
  {
   "cell_type": "code",
   "execution_count": 10,
   "id": "c9af8443",
   "metadata": {},
   "outputs": [
    {
     "data": {
      "text/plain": [
       "[array([ 0.,  1.,  2.,  3.,  4.,  5.,  6.,  7.,  8.,  9., 10., 11., 12.,\n",
       "        13., 14., 15., 16., 17., 18., 19., 20., 21., 22., 23., 24., 25.,\n",
       "        26., 27., 28., 29., 30., 31., 32., 33., 34., 35., 36., 37., 38.,\n",
       "        39., 40., 41., 42., 43., 44., 45., 46., 47., 48., 49., 50., 51.,\n",
       "        52., 53., 54., 55., 56., 57., 58., 59.]),\n",
       " array([0. , 0.1, 0.2, 0.3, 0.4, 0.5, 0.6, 0.7, 0.8, 0.9, 1. , 1.1, 1.2,\n",
       "        1.3, 1.4, 1.5, 1.6, 1.7, 1.8, 1.9, 2. , 2.1, 2.2, 2.3, 2.4, 2.5,\n",
       "        2.6, 2.7, 2.8, 2.9]),\n",
       " array([0.50188311, 0.41493488, 0.20448794, 0.00753194, 0.85324509,\n",
       "        0.22285437, 0.26030263, 0.13637929, 0.03993937, 0.79698965,\n",
       "        0.60487056, 0.93147713, 0.66047999, 0.68693866, 0.11842266,\n",
       "        0.71171709, 0.70837931, 0.99090576, 0.25765159, 0.2655233 ,\n",
       "        0.2477613 , 0.88550294, 0.84910272, 0.64642101, 0.70337452,\n",
       "        0.04308095, 0.17079275, 0.92300867, 0.5533016 , 0.06051495,\n",
       "        0.71269485, 0.10990811, 0.32742069, 0.35822511, 0.79976137,\n",
       "        0.00795971, 0.19820291, 0.93791217, 0.57933856, 0.17988472,\n",
       "        0.06690094, 0.90382252, 0.19668662, 0.80483102, 0.492172  ,\n",
       "        0.04297567, 0.18281513, 0.87129442, 0.0602315 , 0.90914284,\n",
       "        0.07905273, 0.97778428, 0.90700092, 0.01437217, 0.45042395,\n",
       "        0.29361092, 0.88808639, 0.86719963, 0.25703748, 0.08951932])]"
      ]
     },
     "execution_count": 10,
     "metadata": {},
     "output_type": "execute_result"
    }
   ],
   "source": [
    "X = np.array(range(M * N * n))\n",
    "U = np.array(range(M * N * m)) * 0.1\n",
    "mu = np.random.rand(N * M * n)\n",
    "y = np.hstack((X, U, mu))\n",
    "\n",
    "np.split(y, [M * N * n, M * N * (n + m)])"
   ]
  },
  {
   "cell_type": "code",
   "execution_count": 11,
   "id": "83802ade",
   "metadata": {},
   "outputs": [
    {
     "name": "stdout",
     "output_type": "stream",
     "text": [
      "(60,) (30,)\n"
     ]
    }
   ],
   "source": [
    "print(np.shape(X), np.shape(U))"
   ]
  },
  {
   "cell_type": "code",
   "execution_count": 12,
   "id": "e08b83a9",
   "metadata": {},
   "outputs": [
    {
     "name": "stdout",
     "output_type": "stream",
     "text": [
      "(60, 60) (60, 30) (60, 4)\n",
      "(60,)\n",
      "(60, 90)\n"
     ]
    }
   ],
   "source": [
    "import dynamics\n",
    "\n",
    "A_sys, B_sys, E_sys = dynamics.get_system_dynamics(M, N, n, m, dt)\n",
    "print(np.shape(A_sys), np.shape(B_sys), np.shape(E_sys))\n",
    "\n",
    "x0 = xf\n",
    "D = dynamics.D(X, U, A_sys, B_sys, E_sys, x0)\n",
    "print(np.shape(D))\n",
    "gD = dynamics.grad_D(X, U, A_sys, B_sys, E_sys)\n",
    "print(np.shape(gD))"
   ]
  },
  {
   "cell_type": "code",
   "execution_count": null,
   "id": "e0919ae8",
   "metadata": {},
   "outputs": [
    {
     "name": "stdout",
     "output_type": "stream",
     "text": [
      "(15, 60) (15,)\n",
      "(60, 30) (60,)\n",
      "(15, 2, 60)\n",
      "(90,)\n",
      "(90, 90)\n"
     ]
    }
   ],
   "source": [
    "import constraints\n",
    "\n",
    "C_wall_sys, D_wall_sys = constraints.get_system_wall_y(wall_y, r, M, N, n)\n",
    "print(np.shape(C_wall_sys), np.shape(D_wall_sys))\n",
    "F_sys, G_sys = constraints.get_system_input_bound(M, N, m, max_x, max_y)\n",
    "print(np.shape(F_sys), np.shape(G_sys))\n",
    "list_cola = constraints.get_system_cola(M, N, n)\n",
    "print(np.shape(list_cola))\n",
    "\n",
    "c_wall = constraints.C_wall(X, U, C_wall_sys, D_wall_sys)\n",
    "c_input = constraints.C_input(X, U, F_sys, G_sys)\n",
    "c_cola = constraints.C_cola(X, U, r, list_cola)\n",
    "\n",
    "# np.shape(np.concatenate((c_wall,c_input,c_cola)))\n",
    "C = constraints.C(X, U, C_wall_sys, D_wall_sys, F_sys, G_sys, r, list_cola)\n",
    "print(np.shape(C))\n",
    "gC = constraints.grad_C(X, U, C_wall_sys, D_wall_sys, F_sys, G_sys, r, list_cola)\n",
    "print(np.shape(gC))"
   ]
  },
  {
   "cell_type": "code",
   "execution_count": 14,
   "id": "95469525",
   "metadata": {},
   "outputs": [
    {
     "name": "stdout",
     "output_type": "stream",
     "text": [
      "62178.00000000001\n",
      "(90,)\n"
     ]
    }
   ],
   "source": [
    "import objective\n",
    "\n",
    "u_v = 1\n",
    "J_v = objective.J_v(X, U, u_v, Q, Qf, R, M, N, n, m, xf)\n",
    "print(J_v)\n",
    "gJ_v = objective.grad_J_v(X, U, u_v, Q, Qf, R, M, N, n, m, xf)\n",
    "print(np.shape(gJ_v))"
   ]
  },
  {
   "cell_type": "code",
   "execution_count": 15,
   "id": "ce0f4481",
   "metadata": {},
   "outputs": [
    {
     "name": "stdout",
     "output_type": "stream",
     "text": [
      "(90, 90)\n",
      "(90,)\n",
      "38439.534275000005\n",
      "(90,)\n"
     ]
    }
   ],
   "source": [
    "import aug_lagrangian\n",
    "\n",
    "lam = np.ones(len(C))\n",
    "rho = 1\n",
    "Irho = aug_lagrangian.Irho(C, lam, rho)\n",
    "print(np.shape(Irho))\n",
    "\n",
    "gpenalty = aug_lagrangian.grad_penalty(\n",
    "    X, U, Irho, C_wall_sys, D_wall_sys, F_sys, G_sys, r, list_cola\n",
    ")\n",
    "print(np.shape(gpenalty))\n",
    "\n",
    "mu = np.ones(M * N * n)\n",
    "L_v = aug_lagrangian.L_v(u_v, N, n, mu, lam, Irho, J_v, D, C)\n",
    "print(L_v)\n",
    "\n",
    "gL_v = aug_lagrangian.grad_L_v(u_v, N, n, m, mu, lam, gJ_v, gD, gC, gpenalty)\n",
    "print(np.shape(gL_v))"
   ]
  },
  {
   "cell_type": "code",
   "execution_count": 16,
   "id": "6e7ebd42",
   "metadata": {},
   "outputs": [
    {
     "name": "stdout",
     "output_type": "stream",
     "text": [
      "(150,)\n",
      "(330,)\n"
     ]
    }
   ],
   "source": [
    "y = np.concatenate((X, U, mu))\n",
    "gAL = aug_lagrangian.grad_aug_lagrangian(\n",
    "    y,\n",
    "    M,\n",
    "    N,\n",
    "    n,\n",
    "    m,\n",
    "    lam,\n",
    "    rho,\n",
    "    Q,\n",
    "    Qf,\n",
    "    R,\n",
    "    x0,\n",
    "    xf,\n",
    "    A_sys,\n",
    "    B_sys,\n",
    "    E_sys,\n",
    "    C_wall_sys,\n",
    "    D_wall_sys,\n",
    "    F_sys,\n",
    "    G_sys,\n",
    "    r,\n",
    "    list_cola,\n",
    ")\n",
    "print(np.shape(y))\n",
    "print(np.shape(gAL))"
   ]
  },
  {
   "cell_type": "code",
   "execution_count": null,
   "id": "12f13668",
   "metadata": {},
   "outputs": [],
   "source": [
    "from scipy import optimize\n",
    "\n",
    "al_args = (\n",
    "    M,\n",
    "    N,\n",
    "    n,\n",
    "    m,\n",
    "    lam,\n",
    "    rho,\n",
    "    Q,\n",
    "    Qf,\n",
    "    R,\n",
    "    x0,\n",
    "    xf,\n",
    "    A_sys,\n",
    "    B_sys,\n",
    "    E_sys,\n",
    "    C_wall_sys,\n",
    "    D_wall_sys,\n",
    "    F_sys,\n",
    "    G_sys,\n",
    "    r,\n",
    "    list_cola,\n",
    ")\n",
    "\n",
    "# currently uses derivative free method\n",
    "sol = optimize.root(\n",
    "    aug_lagrangian.grad_aug_lagrangian, y, method=\"lm\", jac=False, args=al_args\n",
    ")\n",
    "y = sol.x"
   ]
  },
  {
   "cell_type": "code",
   "execution_count": null,
   "id": "03c4bc26",
   "metadata": {},
   "outputs": [],
   "source": []
  }
 ],
 "metadata": {
  "kernelspec": {
   "display_name": "Python 3",
   "language": "python",
   "name": "python3"
  },
  "language_info": {
   "codemirror_mode": {
    "name": "ipython",
    "version": 3
   },
   "file_extension": ".py",
   "mimetype": "text/x-python",
   "name": "python",
   "nbconvert_exporter": "python",
   "pygments_lexer": "ipython3",
   "version": "3.8.2"
  }
 },
 "nbformat": 4,
 "nbformat_minor": 5
}
